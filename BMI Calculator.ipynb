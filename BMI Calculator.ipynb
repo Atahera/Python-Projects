{
 "cells": [
  {
   "cell_type": "code",
   "execution_count": null,
   "id": "2c53501d-781d-4d32-89fb-bf95f508bbbb",
   "metadata": {},
   "outputs": [],
   "source": [
    "#BMI Calculator"
   ]
  },
  {
   "cell_type": "code",
   "execution_count": null,
   "id": "b36aadea-9443-436d-a486-d397c5ddcd40",
   "metadata": {
    "tags": []
   },
   "outputs": [],
   "source": [
    "Name = input(\" Enter your name: \")\n",
    "weight = float(input(\" weight in pounds: \"))\n",
    "height_feet = int(input(\"height in feet: \"))\n",
    "height_inches = int(input(\"height in inches: \"))   \n",
    "\n",
    "height_inches_total = height_feet * 12 + height_inches\n",
    "BMI = (weight * 703) / (height_inches_total * height_inches_total)\n",
    "if BMI > 0:\n",
    "     if BMI < 18.5:\n",
    "        print(Name + \"you are underweight\")\n",
    "     elif(18.5 <= BMI <= 24.9):\n",
    "        print(Name +\" you are normal weight\")\n",
    "     elif 25 <= BMI <= 29.9:\n",
    "        print(Name +\" you are overweight\")\n",
    "     else:\n",
    "        print(Name +\" you are obese\")"
   ]
  },
  {
   "cell_type": "code",
   "execution_count": null,
   "id": "1a014395-f273-41e5-8537-0894815d7e18",
   "metadata": {},
   "outputs": [],
   "source": []
  }
 ],
 "metadata": {
  "kernelspec": {
   "display_name": "Python 3 (ipykernel)",
   "language": "python",
   "name": "python3"
  },
  "language_info": {
   "codemirror_mode": {
    "name": "ipython",
    "version": 3
   },
   "file_extension": ".py",
   "mimetype": "text/x-python",
   "name": "python",
   "nbconvert_exporter": "python",
   "pygments_lexer": "ipython3",
   "version": "3.11.5"
  }
 },
 "nbformat": 4,
 "nbformat_minor": 5
}
